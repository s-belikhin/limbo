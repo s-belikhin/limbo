{
 "cells": [
  {
   "cell_type": "code",
   "execution_count": null,
   "metadata": {},
   "outputs": [],
   "source": [
    "# 5"
   ]
  },
  {
   "cell_type": "code",
   "execution_count": 1,
   "metadata": {},
   "outputs": [],
   "source": [
    "n = 7\n",
    "k = 0\n",
    "p = 0.4\n",
    "q = 0.6\n",
    "#альтернативный вариант\n",
    "\n",
    "from math import factorial\n",
    "\n",
    "\n",
    "r1 = factorial(n)/(factorial(k) * factorial(n - k))*(p**k)*(q**(n-k))"
   ]
  },
  {
   "cell_type": "code",
   "execution_count": 2,
   "metadata": {},
   "outputs": [],
   "source": [
    "n = 7\n",
    "k = 1\n",
    "p = 0.4\n",
    "q = 0.6\n",
    "#альтернативный вариант\n",
    "\n",
    "from math import factorial\n",
    "\n",
    "\n",
    "r2 = factorial(n)/(factorial(k) * factorial(n - k))*(p**k)*(q**(n-k))"
   ]
  },
  {
   "cell_type": "code",
   "execution_count": 3,
   "metadata": {},
   "outputs": [],
   "source": [
    "n = 7\n",
    "k = 2\n",
    "p = 0.4\n",
    "q = 0.6\n",
    "#альтернативный вариант\n",
    "\n",
    "from math import factorial\n",
    "\n",
    "\n",
    "r3 = factorial(n)/(factorial(k) * factorial(n - k))*(p**k)*(q**(n-k))"
   ]
  },
  {
   "cell_type": "code",
   "execution_count": 4,
   "metadata": {},
   "outputs": [
    {
     "data": {
      "text/plain": [
       "0.41990399999999994"
      ]
     },
     "execution_count": 4,
     "metadata": {},
     "output_type": "execute_result"
    }
   ],
   "source": [
    "r1+r2+r3"
   ]
  },
  {
   "cell_type": "code",
   "execution_count": null,
   "metadata": {},
   "outputs": [],
   "source": [
    "# 6"
   ]
  },
  {
   "cell_type": "code",
   "execution_count": 5,
   "metadata": {},
   "outputs": [],
   "source": [
    "n = 7\n",
    "k = 0\n",
    "p = 0.5\n",
    "q = 0.5\n",
    "#альтернативный вариант\n",
    "\n",
    "from math import factorial\n",
    "\n",
    "\n",
    "r1 = factorial(n)/(factorial(k) * factorial(n - k))*(p**k)*(q**(n-k))"
   ]
  },
  {
   "cell_type": "code",
   "execution_count": 6,
   "metadata": {},
   "outputs": [],
   "source": [
    "n = 7\n",
    "k = 1\n",
    "p = 0.5\n",
    "q = 0.5\n",
    "#альтернативный вариант\n",
    "\n",
    "from math import factorial\n",
    "\n",
    "\n",
    "r2 = factorial(n)/(factorial(k) * factorial(n - k))*(p**k)*(q**(n-k))"
   ]
  },
  {
   "cell_type": "code",
   "execution_count": 7,
   "metadata": {},
   "outputs": [],
   "source": [
    "n = 7\n",
    "k = 2\n",
    "p = 0.5\n",
    "q = 0.5\n",
    "#альтернативный вариант\n",
    "\n",
    "from math import factorial\n",
    "\n",
    "\n",
    "r3 = factorial(n)/(factorial(k) * factorial(n - k))*(p**k)*(q**(n-k))"
   ]
  },
  {
   "cell_type": "code",
   "execution_count": 8,
   "metadata": {},
   "outputs": [
    {
     "data": {
      "text/plain": [
       "0.7734375"
      ]
     },
     "execution_count": 8,
     "metadata": {},
     "output_type": "execute_result"
    }
   ],
   "source": [
    "1-(r1+r2+r3)"
   ]
  },
  {
   "cell_type": "code",
   "execution_count": null,
   "metadata": {},
   "outputs": [],
   "source": [
    "# 7"
   ]
  },
  {
   "cell_type": "code",
   "execution_count": 13,
   "metadata": {},
   "outputs": [],
   "source": [
    "n = 6\n",
    "k = 0\n",
    "p = 0.25\n",
    "q = 0.75\n",
    "#альтернативный вариант\n",
    "\n",
    "from math import factorial\n",
    "\n",
    "\n",
    "r1 = factorial(n)/(factorial(k) * factorial(n - k))*(p**k)*(q**(n-k))\n",
    "\n",
    "n = 6\n",
    "k = 1\n",
    "p = 0.25\n",
    "q = 0.75\n",
    "#альтернативный вариант\n",
    "\n",
    "from math import factorial\n",
    "\n",
    "\n",
    "r2 = factorial(n)/(factorial(k) * factorial(n - k))*(p**k)*(q**(n-k))"
   ]
  },
  {
   "cell_type": "code",
   "execution_count": 14,
   "metadata": {},
   "outputs": [
    {
     "data": {
      "text/plain": [
       "0.466064453125"
      ]
     },
     "execution_count": 14,
     "metadata": {},
     "output_type": "execute_result"
    }
   ],
   "source": [
    "1-(r1+r2)"
   ]
  },
  {
   "cell_type": "code",
   "execution_count": null,
   "metadata": {},
   "outputs": [],
   "source": [
    "# 8"
   ]
  },
  {
   "cell_type": "code",
   "execution_count": 15,
   "metadata": {},
   "outputs": [],
   "source": [
    "n = 10\n",
    "k = 8\n",
    "p = 0.9\n",
    "q = 0.1\n",
    "#альтернативный вариант\n",
    "\n",
    "from math import factorial\n",
    "\n",
    "\n",
    "r1 = factorial(n)/(factorial(k) * factorial(n - k))*(p**k)*(q**(n-k))\n",
    "\n",
    "n = 10\n",
    "k = 9\n",
    "p = 0.9\n",
    "q = 0.1\n",
    "#альтернативный вариант\n",
    "\n",
    "from math import factorial\n",
    "\n",
    "\n",
    "r2 = factorial(n)/(factorial(k) * factorial(n - k))*(p**k)*(q**(n-k))\n",
    "\n",
    "n = 10\n",
    "k = 10\n",
    "p = 0.9\n",
    "q = 0.1\n",
    "#альтернативный вариант\n",
    "\n",
    "from math import factorial\n",
    "\n",
    "\n",
    "r3 = factorial(n)/(factorial(k) * factorial(n - k))*(p**k)*(q**(n-k))"
   ]
  },
  {
   "cell_type": "code",
   "execution_count": 16,
   "metadata": {},
   "outputs": [
    {
     "data": {
      "text/plain": [
       "0.9298091736000003"
      ]
     },
     "execution_count": 16,
     "metadata": {},
     "output_type": "execute_result"
    }
   ],
   "source": [
    "r1+r2+r3"
   ]
  },
  {
   "cell_type": "code",
   "execution_count": null,
   "metadata": {},
   "outputs": [],
   "source": [
    "# 8"
   ]
  },
  {
   "cell_type": "code",
   "execution_count": 17,
   "metadata": {},
   "outputs": [],
   "source": [
    "n = 30\n",
    "k = 2\n",
    "p = 0.1\n",
    "q = 0.9\n",
    "#альтернативный вариант\n",
    "\n",
    "from math import factorial\n",
    "\n",
    "\n",
    "r1 = factorial(n)/(factorial(k) * factorial(n - k))*(p**k)*(q**(n-k))"
   ]
  },
  {
   "cell_type": "code",
   "execution_count": 18,
   "metadata": {},
   "outputs": [
    {
     "data": {
      "text/plain": [
       "0.22765622036690203"
      ]
     },
     "execution_count": 18,
     "metadata": {},
     "output_type": "execute_result"
    }
   ],
   "source": [
    "r1"
   ]
  },
  {
   "cell_type": "code",
   "execution_count": null,
   "metadata": {},
   "outputs": [],
   "source": [
    "# 9 np−q≤k≤np+p,q=1−p."
   ]
  },
  {
   "cell_type": "code",
   "execution_count": 1,
   "metadata": {},
   "outputs": [],
   "source": [
    "n = 1730\n",
    "\n",
    "p = 1/365\n",
    "q = 1 - p"
   ]
  },
  {
   "cell_type": "code",
   "execution_count": 4,
   "metadata": {},
   "outputs": [],
   "source": [
    "k1=n*p-q"
   ]
  },
  {
   "cell_type": "code",
   "execution_count": 6,
   "metadata": {},
   "outputs": [],
   "source": [
    "k2=n*p+p"
   ]
  },
  {
   "cell_type": "code",
   "execution_count": 7,
   "metadata": {},
   "outputs": [
    {
     "data": {
      "text/plain": [
       "3.742465753424658"
      ]
     },
     "execution_count": 7,
     "metadata": {},
     "output_type": "execute_result"
    }
   ],
   "source": [
    "k1"
   ]
  },
  {
   "cell_type": "code",
   "execution_count": 8,
   "metadata": {},
   "outputs": [
    {
     "data": {
      "text/plain": [
       "4.742465753424658"
      ]
     },
     "execution_count": 8,
     "metadata": {},
     "output_type": "execute_result"
    }
   ],
   "source": [
    "k2"
   ]
  },
  {
   "cell_type": "code",
   "execution_count": null,
   "metadata": {},
   "outputs": [],
   "source": [
    "# 10"
   ]
  },
  {
   "cell_type": "code",
   "execution_count": 6,
   "metadata": {},
   "outputs": [],
   "source": [
    "n = 5\n",
    "k=2\n",
    "p=0.75\n",
    "q=0.25\n",
    "\n",
    "from math import factorial\n",
    "\n",
    "\n",
    "r1 = factorial(n)/(factorial(k) * factorial(n - k))*(p**k)*(q**(n-k))"
   ]
  },
  {
   "cell_type": "code",
   "execution_count": 7,
   "metadata": {},
   "outputs": [
    {
     "data": {
      "text/plain": [
       "0.087890625"
      ]
     },
     "execution_count": 7,
     "metadata": {},
     "output_type": "execute_result"
    }
   ],
   "source": [
    "r1"
   ]
  },
  {
   "cell_type": "code",
   "execution_count": 3,
   "metadata": {},
   "outputs": [
    {
     "data": {
      "text/plain": [
       "0.75"
      ]
     },
     "execution_count": 3,
     "metadata": {},
     "output_type": "execute_result"
    }
   ],
   "source": [
    "15/20"
   ]
  },
  {
   "cell_type": "code",
   "execution_count": null,
   "metadata": {},
   "outputs": [],
   "source": []
  },
  {
   "cell_type": "code",
   "execution_count": null,
   "metadata": {},
   "outputs": [],
   "source": []
  },
  {
   "cell_type": "code",
   "execution_count": null,
   "metadata": {},
   "outputs": [],
   "source": []
  }
 ],
 "metadata": {
  "kernelspec": {
   "display_name": "Python 3",
   "language": "python",
   "name": "python3"
  },
  "language_info": {
   "codemirror_mode": {
    "name": "ipython",
    "version": 3
   },
   "file_extension": ".py",
   "mimetype": "text/x-python",
   "name": "python",
   "nbconvert_exporter": "python",
   "pygments_lexer": "ipython3",
   "version": "3.7.3"
  }
 },
 "nbformat": 4,
 "nbformat_minor": 4
}
